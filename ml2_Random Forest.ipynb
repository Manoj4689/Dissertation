{
 "cells": [
  {
   "cell_type": "code",
   "execution_count": 1,
   "metadata": {},
   "outputs": [],
   "source": [
    "import numpy as np \n",
    "import pandas as pd\n",
    "import math\n",
    "import scipy.stats as stats\n",
    "from scipy.stats import norm\n",
    "import matplotlib.pyplot as plt\n",
    "import seaborn as sns\n",
    "from sklearn.linear_model import LinearRegression\n",
    "from sklearn.model_selection import train_test_split\n",
    "from sklearn.metrics import mean_squared_error"
   ]
  },
  {
   "cell_type": "code",
   "execution_count": 2,
   "metadata": {},
   "outputs": [],
   "source": [
    "def import_data():\n",
    " data = pd.read_csv('norway_new_car_sales_by_make.csv')\n",
    " \n",
    " data['Period'] = data['Year'].astype(str) + '-' + data['Month'].astype(str).str.zfill(2)\n",
    " \n",
    " df = pd.pivot_table(data=data,values='Quantity',index='Make',columns='Period',aggfunc='sum',fill_value=0)\n",
    " return df"
   ]
  },
  {
   "cell_type": "code",
   "execution_count": 3,
   "metadata": {},
   "outputs": [],
   "source": [
    "def datasets(df, x_len=12, y_len=1, test_loops=12):\n",
    " D = df.values\n",
    " rows, periods = D.shape\n",
    " # Training set creation\n",
    " loops = periods + 1- x_len- y_len\n",
    " train = []\n",
    " for col in range(loops):\n",
    "    train.append(D[:,col:col+x_len+y_len])\n",
    " \n",
    " train = np.vstack(train)\n",
    " print(train.shape)\n",
    " X_train, Y_train = np.split(train,[-y_len],axis=1)\n",
    " # Test set creation\n",
    " if test_loops > 0:\n",
    "    X_train, X_test = np.split(X_train,[-rows*test_loops],axis=0)\n",
    "\n",
    "    Y_train, Y_test = np.split(Y_train,[-rows*test_loops],axis=0)\n",
    " else: # No test set: X_test is used to generate the future forecast\n",
    "    X_test = D[:,-x_len:]\n",
    "    Y_test = np.full((X_test.shape[0],y_len),np.nan) #Dummy value\n",
    " # Formatting required for scikit-learn\n",
    " if y_len == 1:\n",
    "    Y_train = Y_train.ravel()\n",
    "    Y_test = Y_test.ravel()\n",
    " return X_train, Y_train, X_test, Y_test"
   ]
  },
  {
   "cell_type": "code",
   "execution_count": 4,
   "metadata": {},
   "outputs": [],
   "source": [
    "def kpi_ML(Y_train, Y_train_pred, Y_test, Y_test_pred, name=''):\n",
    " df = pd.DataFrame(columns = ['MAE','RMSE','Bias'],index=['Train','Test'])\n",
    " df.index.name = name\n",
    " \n",
    " df.loc['Train','MAE'] = 100*np.mean(abs(Y_train-Y_train_pred))/np.mean(Y_train)\n",
    "\n",
    " df.loc['Train','RMSE'] = 100*np.sqrt(np.mean((Y_train-Y_train_pred)**2))/np.mean(Y_train)\n",
    " \n",
    " df.loc['Train','Bias'] = 100*np.mean((Y_train- Y_train_pred))/np.mean(Y_train)\n",
    "\n",
    " df.loc['Test','MAE'] = 100*np.mean(abs(Y_test- Y_test_pred))/np.mean(Y_test)\n",
    " \n",
    " df.loc['Test','RMSE'] = 100*np.sqrt(np.mean((Y_test-Y_test_pred)**2))/np.mean(Y_test)\n",
    " \n",
    " df.loc['Test','Bias'] = 100*np.mean((Y_test- Y_test_pred))/np.mean(Y_test)\n",
    " df = df.astype(float).round(1) #Round number for display\n",
    " print(df)"
   ]
  },
  {
   "cell_type": "code",
   "execution_count": 5,
   "metadata": {},
   "outputs": [
    {
     "name": "stdout",
     "output_type": "stream",
     "text": [
      "(7085, 13)\n"
     ]
    }
   ],
   "source": [
    "df = import_data()\n",
    "X_train, Y_train, X_test, Y_test = datasets(df, x_len=12, y_len=1,test_loops=12)"
   ]
  },
  {
   "cell_type": "code",
   "execution_count": 23,
   "metadata": {},
   "outputs": [
    {
     "data": {
      "text/html": [
       "<style>#sk-container-id-9 {color: black;}#sk-container-id-9 pre{padding: 0;}#sk-container-id-9 div.sk-toggleable {background-color: white;}#sk-container-id-9 label.sk-toggleable__label {cursor: pointer;display: block;width: 100%;margin-bottom: 0;padding: 0.3em;box-sizing: border-box;text-align: center;}#sk-container-id-9 label.sk-toggleable__label-arrow:before {content: \"▸\";float: left;margin-right: 0.25em;color: #696969;}#sk-container-id-9 label.sk-toggleable__label-arrow:hover:before {color: black;}#sk-container-id-9 div.sk-estimator:hover label.sk-toggleable__label-arrow:before {color: black;}#sk-container-id-9 div.sk-toggleable__content {max-height: 0;max-width: 0;overflow: hidden;text-align: left;background-color: #f0f8ff;}#sk-container-id-9 div.sk-toggleable__content pre {margin: 0.2em;color: black;border-radius: 0.25em;background-color: #f0f8ff;}#sk-container-id-9 input.sk-toggleable__control:checked~div.sk-toggleable__content {max-height: 200px;max-width: 100%;overflow: auto;}#sk-container-id-9 input.sk-toggleable__control:checked~label.sk-toggleable__label-arrow:before {content: \"▾\";}#sk-container-id-9 div.sk-estimator input.sk-toggleable__control:checked~label.sk-toggleable__label {background-color: #d4ebff;}#sk-container-id-9 div.sk-label input.sk-toggleable__control:checked~label.sk-toggleable__label {background-color: #d4ebff;}#sk-container-id-9 input.sk-hidden--visually {border: 0;clip: rect(1px 1px 1px 1px);clip: rect(1px, 1px, 1px, 1px);height: 1px;margin: -1px;overflow: hidden;padding: 0;position: absolute;width: 1px;}#sk-container-id-9 div.sk-estimator {font-family: monospace;background-color: #f0f8ff;border: 1px dotted black;border-radius: 0.25em;box-sizing: border-box;margin-bottom: 0.5em;}#sk-container-id-9 div.sk-estimator:hover {background-color: #d4ebff;}#sk-container-id-9 div.sk-parallel-item::after {content: \"\";width: 100%;border-bottom: 1px solid gray;flex-grow: 1;}#sk-container-id-9 div.sk-label:hover label.sk-toggleable__label {background-color: #d4ebff;}#sk-container-id-9 div.sk-serial::before {content: \"\";position: absolute;border-left: 1px solid gray;box-sizing: border-box;top: 0;bottom: 0;left: 50%;z-index: 0;}#sk-container-id-9 div.sk-serial {display: flex;flex-direction: column;align-items: center;background-color: white;padding-right: 0.2em;padding-left: 0.2em;position: relative;}#sk-container-id-9 div.sk-item {position: relative;z-index: 1;}#sk-container-id-9 div.sk-parallel {display: flex;align-items: stretch;justify-content: center;background-color: white;position: relative;}#sk-container-id-9 div.sk-item::before, #sk-container-id-9 div.sk-parallel-item::before {content: \"\";position: absolute;border-left: 1px solid gray;box-sizing: border-box;top: 0;bottom: 0;left: 50%;z-index: -1;}#sk-container-id-9 div.sk-parallel-item {display: flex;flex-direction: column;z-index: 1;position: relative;background-color: white;}#sk-container-id-9 div.sk-parallel-item:first-child::after {align-self: flex-end;width: 50%;}#sk-container-id-9 div.sk-parallel-item:last-child::after {align-self: flex-start;width: 50%;}#sk-container-id-9 div.sk-parallel-item:only-child::after {width: 0;}#sk-container-id-9 div.sk-dashed-wrapped {border: 1px dashed gray;margin: 0 0.4em 0.5em 0.4em;box-sizing: border-box;padding-bottom: 0.4em;background-color: white;}#sk-container-id-9 div.sk-label label {font-family: monospace;font-weight: bold;display: inline-block;line-height: 1.2em;}#sk-container-id-9 div.sk-label-container {text-align: center;}#sk-container-id-9 div.sk-container {/* jupyter's `normalize.less` sets `[hidden] { display: none; }` but bootstrap.min.css set `[hidden] { display: none !important; }` so we also need the `!important` here to be able to override the default hidden behavior on the sphinx rendered scikit-learn.org. See: https://github.com/scikit-learn/scikit-learn/issues/21755 */display: inline-block !important;position: relative;}#sk-container-id-9 div.sk-text-repr-fallback {display: none;}</style><div id=\"sk-container-id-9\" class=\"sk-top-container\"><div class=\"sk-text-repr-fallback\"><pre>RandomForestRegressor(max_depth=7, max_features=11, max_samples=0.95,\n",
       "                      min_samples_leaf=12, min_samples_split=15,\n",
       "                      n_estimators=50)</pre><b>In a Jupyter environment, please rerun this cell to show the HTML representation or trust the notebook. <br />On GitHub, the HTML representation is unable to render, please try loading this page with nbviewer.org.</b></div><div class=\"sk-container\" hidden><div class=\"sk-item\"><div class=\"sk-estimator sk-toggleable\"><input class=\"sk-toggleable__control sk-hidden--visually\" id=\"sk-estimator-id-9\" type=\"checkbox\" checked><label for=\"sk-estimator-id-9\" class=\"sk-toggleable__label sk-toggleable__label-arrow\">RandomForestRegressor</label><div class=\"sk-toggleable__content\"><pre>RandomForestRegressor(max_depth=7, max_features=11, max_samples=0.95,\n",
       "                      min_samples_leaf=12, min_samples_split=15,\n",
       "                      n_estimators=50)</pre></div></div></div></div></div>"
      ],
      "text/plain": [
       "RandomForestRegressor(max_depth=7, max_features=11, max_samples=0.95,\n",
       "                      min_samples_leaf=12, min_samples_split=15,\n",
       "                      n_estimators=50)"
      ]
     },
     "execution_count": 23,
     "metadata": {},
     "output_type": "execute_result"
    }
   ],
   "source": [
    "from sklearn.ensemble import RandomForestRegressor\n",
    "forest = RandomForestRegressor(bootstrap=True, max_samples=0.95,max_features=11, min_samples_leaf=12, max_depth=7,min_samples_split=15,n_estimators=50)\n",
    "forest.fit(X_train,Y_train)"
   ]
  },
  {
   "cell_type": "code",
   "execution_count": 24,
   "metadata": {},
   "outputs": [
    {
     "name": "stdout",
     "output_type": "stream",
     "text": [
      "         MAE  RMSE  Bias\n",
      "Forest                  \n",
      "Train   15.1  38.1   0.1\n",
      "Test    18.0  46.5   3.6\n"
     ]
    }
   ],
   "source": [
    "Y_train_pred = forest.predict(X_train)\n",
    "Y_test_pred = forest.predict(X_test)\n",
    "kpi_ML(Y_train, Y_train_pred, Y_test, Y_test_pred, name='Forest')"
   ]
  },
  {
   "cell_type": "code",
   "execution_count": 25,
   "metadata": {},
   "outputs": [
    {
     "name": "stdout",
     "output_type": "stream",
     "text": [
      "Fitting 6 folds for each of 400 candidates, totalling 2400 fits\n"
     ]
    },
    {
     "data": {
      "text/html": [
       "<style>#sk-container-id-10 {color: black;}#sk-container-id-10 pre{padding: 0;}#sk-container-id-10 div.sk-toggleable {background-color: white;}#sk-container-id-10 label.sk-toggleable__label {cursor: pointer;display: block;width: 100%;margin-bottom: 0;padding: 0.3em;box-sizing: border-box;text-align: center;}#sk-container-id-10 label.sk-toggleable__label-arrow:before {content: \"▸\";float: left;margin-right: 0.25em;color: #696969;}#sk-container-id-10 label.sk-toggleable__label-arrow:hover:before {color: black;}#sk-container-id-10 div.sk-estimator:hover label.sk-toggleable__label-arrow:before {color: black;}#sk-container-id-10 div.sk-toggleable__content {max-height: 0;max-width: 0;overflow: hidden;text-align: left;background-color: #f0f8ff;}#sk-container-id-10 div.sk-toggleable__content pre {margin: 0.2em;color: black;border-radius: 0.25em;background-color: #f0f8ff;}#sk-container-id-10 input.sk-toggleable__control:checked~div.sk-toggleable__content {max-height: 200px;max-width: 100%;overflow: auto;}#sk-container-id-10 input.sk-toggleable__control:checked~label.sk-toggleable__label-arrow:before {content: \"▾\";}#sk-container-id-10 div.sk-estimator input.sk-toggleable__control:checked~label.sk-toggleable__label {background-color: #d4ebff;}#sk-container-id-10 div.sk-label input.sk-toggleable__control:checked~label.sk-toggleable__label {background-color: #d4ebff;}#sk-container-id-10 input.sk-hidden--visually {border: 0;clip: rect(1px 1px 1px 1px);clip: rect(1px, 1px, 1px, 1px);height: 1px;margin: -1px;overflow: hidden;padding: 0;position: absolute;width: 1px;}#sk-container-id-10 div.sk-estimator {font-family: monospace;background-color: #f0f8ff;border: 1px dotted black;border-radius: 0.25em;box-sizing: border-box;margin-bottom: 0.5em;}#sk-container-id-10 div.sk-estimator:hover {background-color: #d4ebff;}#sk-container-id-10 div.sk-parallel-item::after {content: \"\";width: 100%;border-bottom: 1px solid gray;flex-grow: 1;}#sk-container-id-10 div.sk-label:hover label.sk-toggleable__label {background-color: #d4ebff;}#sk-container-id-10 div.sk-serial::before {content: \"\";position: absolute;border-left: 1px solid gray;box-sizing: border-box;top: 0;bottom: 0;left: 50%;z-index: 0;}#sk-container-id-10 div.sk-serial {display: flex;flex-direction: column;align-items: center;background-color: white;padding-right: 0.2em;padding-left: 0.2em;position: relative;}#sk-container-id-10 div.sk-item {position: relative;z-index: 1;}#sk-container-id-10 div.sk-parallel {display: flex;align-items: stretch;justify-content: center;background-color: white;position: relative;}#sk-container-id-10 div.sk-item::before, #sk-container-id-10 div.sk-parallel-item::before {content: \"\";position: absolute;border-left: 1px solid gray;box-sizing: border-box;top: 0;bottom: 0;left: 50%;z-index: -1;}#sk-container-id-10 div.sk-parallel-item {display: flex;flex-direction: column;z-index: 1;position: relative;background-color: white;}#sk-container-id-10 div.sk-parallel-item:first-child::after {align-self: flex-end;width: 50%;}#sk-container-id-10 div.sk-parallel-item:last-child::after {align-self: flex-start;width: 50%;}#sk-container-id-10 div.sk-parallel-item:only-child::after {width: 0;}#sk-container-id-10 div.sk-dashed-wrapped {border: 1px dashed gray;margin: 0 0.4em 0.5em 0.4em;box-sizing: border-box;padding-bottom: 0.4em;background-color: white;}#sk-container-id-10 div.sk-label label {font-family: monospace;font-weight: bold;display: inline-block;line-height: 1.2em;}#sk-container-id-10 div.sk-label-container {text-align: center;}#sk-container-id-10 div.sk-container {/* jupyter's `normalize.less` sets `[hidden] { display: none; }` but bootstrap.min.css set `[hidden] { display: none !important; }` so we also need the `!important` here to be able to override the default hidden behavior on the sphinx rendered scikit-learn.org. See: https://github.com/scikit-learn/scikit-learn/issues/21755 */display: inline-block !important;position: relative;}#sk-container-id-10 div.sk-text-repr-fallback {display: none;}</style><div id=\"sk-container-id-10\" class=\"sk-top-container\"><div class=\"sk-text-repr-fallback\"><pre>RandomizedSearchCV(cv=6,\n",
       "                   estimator=RandomForestRegressor(n_estimators=30, n_jobs=1),\n",
       "                   n_iter=400, n_jobs=-1,\n",
       "                   param_distributions={&#x27;bootstrap&#x27;: [True],\n",
       "                                        &#x27;max_depth&#x27;: [5, 6, 7, 8, 9, 10, None],\n",
       "                                        &#x27;max_features&#x27;: range(3, 8),\n",
       "                                        &#x27;max_samples&#x27;: [0.7, 0.8, 0.9, 0.95, 1],\n",
       "                                        &#x27;min_samples_leaf&#x27;: range(2, 15),\n",
       "                                        &#x27;min_samples_split&#x27;: range(5, 20)},\n",
       "                   scoring=&#x27;neg_mean_absolute_error&#x27;, verbose=2)</pre><b>In a Jupyter environment, please rerun this cell to show the HTML representation or trust the notebook. <br />On GitHub, the HTML representation is unable to render, please try loading this page with nbviewer.org.</b></div><div class=\"sk-container\" hidden><div class=\"sk-item sk-dashed-wrapped\"><div class=\"sk-label-container\"><div class=\"sk-label sk-toggleable\"><input class=\"sk-toggleable__control sk-hidden--visually\" id=\"sk-estimator-id-10\" type=\"checkbox\" ><label for=\"sk-estimator-id-10\" class=\"sk-toggleable__label sk-toggleable__label-arrow\">RandomizedSearchCV</label><div class=\"sk-toggleable__content\"><pre>RandomizedSearchCV(cv=6,\n",
       "                   estimator=RandomForestRegressor(n_estimators=30, n_jobs=1),\n",
       "                   n_iter=400, n_jobs=-1,\n",
       "                   param_distributions={&#x27;bootstrap&#x27;: [True],\n",
       "                                        &#x27;max_depth&#x27;: [5, 6, 7, 8, 9, 10, None],\n",
       "                                        &#x27;max_features&#x27;: range(3, 8),\n",
       "                                        &#x27;max_samples&#x27;: [0.7, 0.8, 0.9, 0.95, 1],\n",
       "                                        &#x27;min_samples_leaf&#x27;: range(2, 15),\n",
       "                                        &#x27;min_samples_split&#x27;: range(5, 20)},\n",
       "                   scoring=&#x27;neg_mean_absolute_error&#x27;, verbose=2)</pre></div></div></div><div class=\"sk-parallel\"><div class=\"sk-parallel-item\"><div class=\"sk-item\"><div class=\"sk-label-container\"><div class=\"sk-label sk-toggleable\"><input class=\"sk-toggleable__control sk-hidden--visually\" id=\"sk-estimator-id-11\" type=\"checkbox\" ><label for=\"sk-estimator-id-11\" class=\"sk-toggleable__label sk-toggleable__label-arrow\">estimator: RandomForestRegressor</label><div class=\"sk-toggleable__content\"><pre>RandomForestRegressor(n_estimators=30, n_jobs=1)</pre></div></div></div><div class=\"sk-serial\"><div class=\"sk-item\"><div class=\"sk-estimator sk-toggleable\"><input class=\"sk-toggleable__control sk-hidden--visually\" id=\"sk-estimator-id-12\" type=\"checkbox\" ><label for=\"sk-estimator-id-12\" class=\"sk-toggleable__label sk-toggleable__label-arrow\">RandomForestRegressor</label><div class=\"sk-toggleable__content\"><pre>RandomForestRegressor(n_estimators=30, n_jobs=1)</pre></div></div></div></div></div></div></div></div></div></div>"
      ],
      "text/plain": [
       "RandomizedSearchCV(cv=6,\n",
       "                   estimator=RandomForestRegressor(n_estimators=30, n_jobs=1),\n",
       "                   n_iter=400, n_jobs=-1,\n",
       "                   param_distributions={'bootstrap': [True],\n",
       "                                        'max_depth': [5, 6, 7, 8, 9, 10, None],\n",
       "                                        'max_features': range(3, 8),\n",
       "                                        'max_samples': [0.7, 0.8, 0.9, 0.95, 1],\n",
       "                                        'min_samples_leaf': range(2, 15),\n",
       "                                        'min_samples_split': range(5, 20)},\n",
       "                   scoring='neg_mean_absolute_error', verbose=2)"
      ]
     },
     "execution_count": 25,
     "metadata": {},
     "output_type": "execute_result"
    }
   ],
   "source": [
    "from sklearn.model_selection import RandomizedSearchCV\n",
    "max_depth = list(range(5,11)) + [None]\n",
    "min_samples_split = range(5,20)\n",
    "min_samples_leaf = range(2,15)\n",
    "max_features = range(3,8)\n",
    "bootstrap = [True] #We force bootstrap\n",
    "max_samples = [.7,.8,.9,.95,1]\n",
    "param_dist = {'max_depth': max_depth,'min_samples_split': min_samples_split,'min_samples_leaf': min_samples_leaf,'max_features': max_features,'bootstrap': bootstrap,'max_samples': max_samples}\n",
    "forest = RandomForestRegressor(n_jobs=1, n_estimators=30)\n",
    "forest_cv = RandomizedSearchCV(forest, param_dist, cv=6, n_jobs=-1, verbose=2, n_iter=400, scoring='neg_mean_absolute_error')\n",
    "forest_cv.fit(X_train,Y_train)"
   ]
  },
  {
   "cell_type": "code",
   "execution_count": 29,
   "metadata": {},
   "outputs": [
    {
     "name": "stdout",
     "output_type": "stream",
     "text": [
      "{'min_samples_split': 8, 'min_samples_leaf': 6, 'max_samples': 0.95, 'max_features': 5, 'max_depth': 9, 'bootstrap': True}\n",
      "                   MAE  RMSE  Bias\n",
      "Forest optimized                  \n",
      "Train             13.6  34.3   0.1\n",
      "Test              17.6  45.9   2.9\n"
     ]
    }
   ],
   "source": [
    "print(forest_cv.best_params_)\n",
    "Y_train_pred = forest_cv.predict(X_train)\n",
    "Y_test_pred = forest_cv.predict(X_test)\n",
    "\n",
    "kpi_ML(Y_train, Y_train_pred, Y_test, Y_test_pred, name='Forest optimized')\n"
   ]
  },
  {
   "cell_type": "code",
   "execution_count": 30,
   "metadata": {},
   "outputs": [
    {
     "name": "stdout",
     "output_type": "stream",
     "text": [
      "             MAE  RMSE  Bias\n",
      "Forestx200                  \n",
      "Train       13.5  34.0   0.0\n",
      "Test        17.6  45.2   2.6\n"
     ]
    }
   ],
   "source": [
    "#Testing with more no.of trees in forest\n",
    "forest = RandomForestRegressor(n_estimators=200, n_jobs=-1,**forest_cv.best_params_)\n",
    "forest = forest.fit(X_train, Y_train)\n",
    "Y_train_pred = forest.predict(X_train)\n",
    "Y_test_pred = forest.predict(X_test)\n",
    "\n",
    "kpi_ML(Y_train, Y_train_pred, Y_test, Y_test_pred, name='Forestx200')"
   ]
  },
  {
   "cell_type": "code",
   "execution_count": 35,
   "metadata": {},
   "outputs": [
    {
     "data": {
      "text/plain": [
       "<Axes: xlabel='features', ylabel='Importance'>"
      ]
     },
     "execution_count": 35,
     "metadata": {},
     "output_type": "execute_result"
    },
    {
     "data": {
      "image/png": "[encoded data removed]",
      "text/plain": [
       "<Figure size 640x480 with 1 Axes>"
      ]
     },
     "metadata": {},
     "output_type": "display_data"
    }
   ],
   "source": [
    "#Checking feauture importance\n",
    "cols = X_train.shape[1] # number of columns in our training sets\n",
    "features = [f'M-{cols-col}' for col in range(cols)]\n",
    "data = forest.feature_importances_.reshape(-1,1)\n",
    "imp = pd.DataFrame(data=data, index=features, columns=['Forest'])\n",
    "imp.plot(kind='bar',xlabel='features',ylabel='Importance',layout=[12,5])"
   ]
  },
  {
   "cell_type": "code",
   "execution_count": 49,
   "metadata": {},
   "outputs": [
    {
     "name": "stdout",
     "output_type": "stream",
     "text": [
      "        MAE  RMSE  Bias\n",
      "ETR                    \n",
      "Train  17.7  43.7   0.0\n",
      "Test   19.0  47.5   3.1\n"
     ]
    }
   ],
   "source": [
    "#Extreme random split (Selects best split at each node)\n",
    "from sklearn.ensemble import ExtraTreesRegressor\n",
    "ETR = ExtraTreesRegressor(n_jobs=-1, n_estimators=200, min_samples_split=15, min_samples_leaf=4, max_samples=0.95, max_features=4, max_depth=8, bootstrap=True)\n",
    "ETR.fit(X_train,Y_train)\n",
    "Y_train_pred = ETR.predict(X_train)\n",
    "Y_test_pred = ETR.predict(X_test)\n",
    "kpi_ML(Y_train, Y_train_pred, Y_test, Y_test_pred, name='ETR')"
   ]
  },
  {
   "cell_type": "code",
   "execution_count": 40,
   "metadata": {},
   "outputs": [
    {
     "name": "stdout",
     "output_type": "stream",
     "text": [
      "Fitting 5 folds for each of 400 candidates, totalling 2000 fits\n"
     ]
    },
    {
     "data": {
      "text/html": [
       "<style>#sk-container-id-12 {color: black;}#sk-container-id-12 pre{padding: 0;}#sk-container-id-12 div.sk-toggleable {background-color: white;}#sk-container-id-12 label.sk-toggleable__label {cursor: pointer;display: block;width: 100%;margin-bottom: 0;padding: 0.3em;box-sizing: border-box;text-align: center;}#sk-container-id-12 label.sk-toggleable__label-arrow:before {content: \"▸\";float: left;margin-right: 0.25em;color: #696969;}#sk-container-id-12 label.sk-toggleable__label-arrow:hover:before {color: black;}#sk-container-id-12 div.sk-estimator:hover label.sk-toggleable__label-arrow:before {color: black;}#sk-container-id-12 div.sk-toggleable__content {max-height: 0;max-width: 0;overflow: hidden;text-align: left;background-color: #f0f8ff;}#sk-container-id-12 div.sk-toggleable__content pre {margin: 0.2em;color: black;border-radius: 0.25em;background-color: #f0f8ff;}#sk-container-id-12 input.sk-toggleable__control:checked~div.sk-toggleable__content {max-height: 200px;max-width: 100%;overflow: auto;}#sk-container-id-12 input.sk-toggleable__control:checked~label.sk-toggleable__label-arrow:before {content: \"▾\";}#sk-container-id-12 div.sk-estimator input.sk-toggleable__control:checked~label.sk-toggleable__label {background-color: #d4ebff;}#sk-container-id-12 div.sk-label input.sk-toggleable__control:checked~label.sk-toggleable__label {background-color: #d4ebff;}#sk-container-id-12 input.sk-hidden--visually {border: 0;clip: rect(1px 1px 1px 1px);clip: rect(1px, 1px, 1px, 1px);height: 1px;margin: -1px;overflow: hidden;padding: 0;position: absolute;width: 1px;}#sk-container-id-12 div.sk-estimator {font-family: monospace;background-color: #f0f8ff;border: 1px dotted black;border-radius: 0.25em;box-sizing: border-box;margin-bottom: 0.5em;}#sk-container-id-12 div.sk-estimator:hover {background-color: #d4ebff;}#sk-container-id-12 div.sk-parallel-item::after {content: \"\";width: 100%;border-bottom: 1px solid gray;flex-grow: 1;}#sk-container-id-12 div.sk-label:hover label.sk-toggleable__label {background-color: #d4ebff;}#sk-container-id-12 div.sk-serial::before {content: \"\";position: absolute;border-left: 1px solid gray;box-sizing: border-box;top: 0;bottom: 0;left: 50%;z-index: 0;}#sk-container-id-12 div.sk-serial {display: flex;flex-direction: column;align-items: center;background-color: white;padding-right: 0.2em;padding-left: 0.2em;position: relative;}#sk-container-id-12 div.sk-item {position: relative;z-index: 1;}#sk-container-id-12 div.sk-parallel {display: flex;align-items: stretch;justify-content: center;background-color: white;position: relative;}#sk-container-id-12 div.sk-item::before, #sk-container-id-12 div.sk-parallel-item::before {content: \"\";position: absolute;border-left: 1px solid gray;box-sizing: border-box;top: 0;bottom: 0;left: 50%;z-index: -1;}#sk-container-id-12 div.sk-parallel-item {display: flex;flex-direction: column;z-index: 1;position: relative;background-color: white;}#sk-container-id-12 div.sk-parallel-item:first-child::after {align-self: flex-end;width: 50%;}#sk-container-id-12 div.sk-parallel-item:last-child::after {align-self: flex-start;width: 50%;}#sk-container-id-12 div.sk-parallel-item:only-child::after {width: 0;}#sk-container-id-12 div.sk-dashed-wrapped {border: 1px dashed gray;margin: 0 0.4em 0.5em 0.4em;box-sizing: border-box;padding-bottom: 0.4em;background-color: white;}#sk-container-id-12 div.sk-label label {font-family: monospace;font-weight: bold;display: inline-block;line-height: 1.2em;}#sk-container-id-12 div.sk-label-container {text-align: center;}#sk-container-id-12 div.sk-container {/* jupyter's `normalize.less` sets `[hidden] { display: none; }` but bootstrap.min.css set `[hidden] { display: none !important; }` so we also need the `!important` here to be able to override the default hidden behavior on the sphinx rendered scikit-learn.org. See: https://github.com/scikit-learn/scikit-learn/issues/21755 */display: inline-block !important;position: relative;}#sk-container-id-12 div.sk-text-repr-fallback {display: none;}</style><div id=\"sk-container-id-12\" class=\"sk-top-container\"><div class=\"sk-text-repr-fallback\"><pre>RandomizedSearchCV(cv=5,\n",
       "                   estimator=ExtraTreesRegressor(n_estimators=30, n_jobs=1),\n",
       "                   n_iter=400, n_jobs=-1,\n",
       "                   param_distributions={&#x27;bootstrap&#x27;: [True],\n",
       "                                        &#x27;max_depth&#x27;: [5, 6, 7, 8, 9, 10, None],\n",
       "                                        &#x27;max_features&#x27;: range(3, 8),\n",
       "                                        &#x27;max_samples&#x27;: [0.7, 0.8, 0.9, 0.95, 1],\n",
       "                                        &#x27;min_samples_leaf&#x27;: range(2, 15),\n",
       "                                        &#x27;min_samples_split&#x27;: range(5, 20)},\n",
       "                   scoring=&#x27;neg_mean_absolute_error&#x27;, verbose=2)</pre><b>In a Jupyter environment, please rerun this cell to show the HTML representation or trust the notebook. <br />On GitHub, the HTML representation is unable to render, please try loading this page with nbviewer.org.</b></div><div class=\"sk-container\" hidden><div class=\"sk-item sk-dashed-wrapped\"><div class=\"sk-label-container\"><div class=\"sk-label sk-toggleable\"><input class=\"sk-toggleable__control sk-hidden--visually\" id=\"sk-estimator-id-16\" type=\"checkbox\" ><label for=\"sk-estimator-id-16\" class=\"sk-toggleable__label sk-toggleable__label-arrow\">RandomizedSearchCV</label><div class=\"sk-toggleable__content\"><pre>RandomizedSearchCV(cv=5,\n",
       "                   estimator=ExtraTreesRegressor(n_estimators=30, n_jobs=1),\n",
       "                   n_iter=400, n_jobs=-1,\n",
       "                   param_distributions={&#x27;bootstrap&#x27;: [True],\n",
       "                                        &#x27;max_depth&#x27;: [5, 6, 7, 8, 9, 10, None],\n",
       "                                        &#x27;max_features&#x27;: range(3, 8),\n",
       "                                        &#x27;max_samples&#x27;: [0.7, 0.8, 0.9, 0.95, 1],\n",
       "                                        &#x27;min_samples_leaf&#x27;: range(2, 15),\n",
       "                                        &#x27;min_samples_split&#x27;: range(5, 20)},\n",
       "                   scoring=&#x27;neg_mean_absolute_error&#x27;, verbose=2)</pre></div></div></div><div class=\"sk-parallel\"><div class=\"sk-parallel-item\"><div class=\"sk-item\"><div class=\"sk-label-container\"><div class=\"sk-label sk-toggleable\"><input class=\"sk-toggleable__control sk-hidden--visually\" id=\"sk-estimator-id-17\" type=\"checkbox\" ><label for=\"sk-estimator-id-17\" class=\"sk-toggleable__label sk-toggleable__label-arrow\">estimator: ExtraTreesRegressor</label><div class=\"sk-toggleable__content\"><pre>ExtraTreesRegressor(n_estimators=30, n_jobs=1)</pre></div></div></div><div class=\"sk-serial\"><div class=\"sk-item\"><div class=\"sk-estimator sk-toggleable\"><input class=\"sk-toggleable__control sk-hidden--visually\" id=\"sk-estimator-id-18\" type=\"checkbox\" ><label for=\"sk-estimator-id-18\" class=\"sk-toggleable__label sk-toggleable__label-arrow\">ExtraTreesRegressor</label><div class=\"sk-toggleable__content\"><pre>ExtraTreesRegressor(n_estimators=30, n_jobs=1)</pre></div></div></div></div></div></div></div></div></div></div>"
      ],
      "text/plain": [
       "RandomizedSearchCV(cv=5,\n",
       "                   estimator=ExtraTreesRegressor(n_estimators=30, n_jobs=1),\n",
       "                   n_iter=400, n_jobs=-1,\n",
       "                   param_distributions={'bootstrap': [True],\n",
       "                                        'max_depth': [5, 6, 7, 8, 9, 10, None],\n",
       "                                        'max_features': range(3, 8),\n",
       "                                        'max_samples': [0.7, 0.8, 0.9, 0.95, 1],\n",
       "                                        'min_samples_leaf': range(2, 15),\n",
       "                                        'min_samples_split': range(5, 20)},\n",
       "                   scoring='neg_mean_absolute_error', verbose=2)"
      ]
     },
     "execution_count": 40,
     "metadata": {},
     "output_type": "execute_result"
    }
   ],
   "source": [
    "#optimization\n",
    "max_depth = list(range(6,13)) + [None]\n",
    "min_samples_split = range(7,16)\n",
    "min_samples_leaf = range(2,13)\n",
    "max_features = range(5,13)\n",
    "bootstrap = [True] #We force bootstrap\n",
    "max_samples = [.7,.8,.9,.95,1]\n",
    "ETR = ExtraTreesRegressor(n_jobs=1, n_estimators=30)\n",
    "ETR_cv = RandomizedSearchCV(ETR, param_dist, cv=5, verbose=2, n_jobs=-1, n_iter=400, scoring='neg_mean_absolute_error')\n",
    "ETR_cv.fit(X_train,Y_train)"
   ]
  },
  {
   "cell_type": "code",
   "execution_count": 42,
   "metadata": {},
   "outputs": [
    {
     "name": "stdout",
     "output_type": "stream",
     "text": [
      "          MAE  RMSE  Bias\n",
      "ETR_opt                  \n",
      "Train    15.8  39.3   0.0\n",
      "Test     18.1  45.9   2.7\n"
     ]
    }
   ],
   "source": [
    "Y_train_pred = ETR_cv.predict(X_train)\n",
    "Y_test_pred = ETR_cv.predict(X_test)\n",
    "kpi_ML(Y_train, Y_train_pred, Y_test, Y_test_pred, name='ETR_opt')"
   ]
  },
  {
   "cell_type": "code",
   "execution_count": 44,
   "metadata": {},
   "outputs": [
    {
     "name": "stdout",
     "output_type": "stream",
     "text": [
      "          MAE  RMSE  Bias\n",
      "ETRx200                  \n",
      "Train    15.6  39.3   0.1\n",
      "Test     17.9  45.5   2.9\n"
     ]
    }
   ],
   "source": [
    "ETRx200 = ExtraTreesRegressor(n_jobs=-1,n_estimators=200, **ETR_cv.best_params_).fit(X_train,Y_train)\n",
    "Y_train_pred = ETRx200.predict(X_train)\n",
    "Y_test_pred = ETRx200.predict(X_test)\n",
    "kpi_ML(Y_train, Y_train_pred, Y_test, Y_test_pred, name='ETRx200')"
   ]
  },
  {
   "cell_type": "code",
   "execution_count": 50,
   "metadata": {},
   "outputs": [
    {
     "data": {
      "text/plain": [
       "<Axes: xlabel='features', ylabel='Importance'>"
      ]
     },
     "execution_count": 50,
     "metadata": {},
     "output_type": "execute_result"
    },
    {
     "data": {
      "image/png": "[encoded data removed]",
      "text/plain": [
       "<Figure size 640x480 with 1 Axes>"
      ]
     },
     "metadata": {},
     "output_type": "display_data"
    }
   ],
   "source": [
    "cols = X_train.shape[1]\n",
    "features = [f'M-{cols-col}' for col in range(cols)]\n",
    "data = ETR.feature_importances_.reshape(-1,1)\n",
    "imp = pd.DataFrame(data=data, index=features, columns=['Forest'])\n",
    "imp.plot(kind='bar',xlabel='features',ylabel='Importance',layout=[12,5])"
   ]
  },
  {
   "cell_type": "code",
   "execution_count": 51,
   "metadata": {},
   "outputs": [],
   "source": [
    "#Feature Optimisation\n",
    "\n",
    "def datasets_holdout(df, x_len=12, y_len=1, test_loops=12, holdout_loops=0):\n",
    " D = df.values\n",
    " rows, periods = D.shape\n",
    " # Training set creation\n",
    " train_loops = periods + 1- x_len- y_len- test_loops\n",
    " train = []\n",
    " for col in range(train_loops):\n",
    "    train.append(D[:,col:col+x_len+y_len])\n",
    " train = np.vstack(train)\n",
    " X_train, Y_train = np.split(train,[-y_len],axis=1)\n",
    " # Holdout set creation\n",
    " if holdout_loops > 0:\n",
    "    X_train, X_holdout = np.split(X_train,[-rows*holdout_loops],axis=0)\n",
    "    Y_train, Y_holdout = np.split(Y_train,[-rows*holdout_loops],axis=0)\n",
    " else:\n",
    "    X_holdout, Y_holdout = np.array([]), np.array([])\n",
    " # Test set creation\n",
    " if test_loops > 0:\n",
    "    X_train, X_test = np.split(X_train,[-rows*test_loops],axis=0)\n",
    "    Y_train, Y_test = np.split(Y_train,[-rows*test_loops],axis=0)\n",
    " else: # No test set: X_test is used to generate the future forecast\n",
    "    X_test = D[:,-x_len:]\n",
    "    Y_test = np.full((X_test.shape[0],y_len),np.nan) #Dummy value\n",
    " # Formatting required for scikit-learn\n",
    " if y_len == 1:\n",
    "    Y_train = Y_train.ravel()\n",
    "    Y_test = Y_test.ravel()\n",
    "    Y_holdout = Y_holdout.ravel()\n",
    " return X_train, Y_train, X_holdout, Y_holdout, X_test, Y_test\n"
   ]
  },
  {
   "cell_type": "code",
   "execution_count": 52,
   "metadata": {},
   "outputs": [],
   "source": [
    "def model_mae(model, X, Y):\n",
    " Y_pred = model.predict(X)\n",
    " mae = np.mean(np.abs(Y- Y_pred))/np.mean(Y)\n",
    " return mae"
   ]
  },
  {
   "cell_type": "code",
   "execution_count": 54,
   "metadata": {},
   "outputs": [],
   "source": [
    "df = import_data()\n",
    "forest_features = {'n_jobs':-1, 'n_estimators':200,'min_samples_split': 15, 'min_samples_leaf': 4, 'max_samples': 0.95, 'max_features': 0.3, 'max_depth': 8, 'bootstrap': True}\n",
    "forest = RandomForestRegressor(**forest_features)\n",
    "ETR_features = {'n_jobs':-1, 'n_estimators':200, 'min_samples_split': 14, 'min_samples_leaf': 2, 'max_samples': 0.9, 'max_features': 1.0,'max_depth': 12, 'bootstrap': True}\n",
    "ETR = ExtraTreesRegressor(**ETR_features)\n",
    "models = [('Forest',forest), ('ETR',ETR)]"
   ]
  },
  {
   "cell_type": "code",
   "execution_count": 60,
   "metadata": {},
   "outputs": [
    {
     "data": {
      "text/html": [
       "<div>\n",
       "<style scoped>\n",
       "    .dataframe tbody tr th:only-of-type {\n",
       "        vertical-align: middle;\n",
       "    }\n",
       "\n",
       "    .dataframe tbody tr th {\n",
       "        vertical-align: top;\n",
       "    }\n",
       "\n",
       "    .dataframe thead th {\n",
       "        text-align: right;\n",
       "    }\n",
       "</style>\n",
       "<table border=\"1\" class=\"dataframe\">\n",
       "  <thead>\n",
       "    <tr style=\"text-align: right;\">\n",
       "      <th>Period</th>\n",
       "      <th>2007-01</th>\n",
       "      <th>2007-02</th>\n",
       "      <th>2007-03</th>\n",
       "      <th>2007-04</th>\n",
       "      <th>2007-05</th>\n",
       "      <th>2007-06</th>\n",
       "      <th>2007-07</th>\n",
       "      <th>2007-08</th>\n",
       "      <th>2007-09</th>\n",
       "      <th>2007-10</th>\n",
       "      <th>...</th>\n",
       "      <th>2016-04</th>\n",
       "      <th>2016-05</th>\n",
       "      <th>2016-06</th>\n",
       "      <th>2016-07</th>\n",
       "      <th>2016-08</th>\n",
       "      <th>2016-09</th>\n",
       "      <th>2016-10</th>\n",
       "      <th>2016-11</th>\n",
       "      <th>2016-12</th>\n",
       "      <th>2017-01</th>\n",
       "    </tr>\n",
       "    <tr>\n",
       "      <th>Make</th>\n",
       "      <th></th>\n",
       "      <th></th>\n",
       "      <th></th>\n",
       "      <th></th>\n",
       "      <th></th>\n",
       "      <th></th>\n",
       "      <th></th>\n",
       "      <th></th>\n",
       "      <th></th>\n",
       "      <th></th>\n",
       "      <th></th>\n",
       "      <th></th>\n",
       "      <th></th>\n",
       "      <th></th>\n",
       "      <th></th>\n",
       "      <th></th>\n",
       "      <th></th>\n",
       "      <th></th>\n",
       "      <th></th>\n",
       "      <th></th>\n",
       "      <th></th>\n",
       "    </tr>\n",
       "  </thead>\n",
       "  <tbody>\n",
       "    <tr>\n",
       "      <th>Alfa Romeo</th>\n",
       "      <td>16</td>\n",
       "      <td>9</td>\n",
       "      <td>21</td>\n",
       "      <td>20</td>\n",
       "      <td>17</td>\n",
       "      <td>21</td>\n",
       "      <td>14</td>\n",
       "      <td>12</td>\n",
       "      <td>15</td>\n",
       "      <td>10</td>\n",
       "      <td>...</td>\n",
       "      <td>3</td>\n",
       "      <td>1</td>\n",
       "      <td>2</td>\n",
       "      <td>1</td>\n",
       "      <td>6</td>\n",
       "      <td>15</td>\n",
       "      <td>3</td>\n",
       "      <td>4</td>\n",
       "      <td>3</td>\n",
       "      <td>6</td>\n",
       "    </tr>\n",
       "    <tr>\n",
       "      <th>Aston Martin</th>\n",
       "      <td>0</td>\n",
       "      <td>0</td>\n",
       "      <td>1</td>\n",
       "      <td>0</td>\n",
       "      <td>4</td>\n",
       "      <td>3</td>\n",
       "      <td>3</td>\n",
       "      <td>0</td>\n",
       "      <td>0</td>\n",
       "      <td>0</td>\n",
       "      <td>...</td>\n",
       "      <td>0</td>\n",
       "      <td>0</td>\n",
       "      <td>1</td>\n",
       "      <td>0</td>\n",
       "      <td>0</td>\n",
       "      <td>0</td>\n",
       "      <td>0</td>\n",
       "      <td>0</td>\n",
       "      <td>0</td>\n",
       "      <td>0</td>\n",
       "    </tr>\n",
       "    <tr>\n",
       "      <th>Audi</th>\n",
       "      <td>599</td>\n",
       "      <td>498</td>\n",
       "      <td>682</td>\n",
       "      <td>556</td>\n",
       "      <td>630</td>\n",
       "      <td>498</td>\n",
       "      <td>562</td>\n",
       "      <td>590</td>\n",
       "      <td>393</td>\n",
       "      <td>554</td>\n",
       "      <td>...</td>\n",
       "      <td>685</td>\n",
       "      <td>540</td>\n",
       "      <td>551</td>\n",
       "      <td>687</td>\n",
       "      <td>794</td>\n",
       "      <td>688</td>\n",
       "      <td>603</td>\n",
       "      <td>645</td>\n",
       "      <td>827</td>\n",
       "      <td>565</td>\n",
       "    </tr>\n",
       "    <tr>\n",
       "      <th>BMW</th>\n",
       "      <td>352</td>\n",
       "      <td>335</td>\n",
       "      <td>365</td>\n",
       "      <td>360</td>\n",
       "      <td>431</td>\n",
       "      <td>477</td>\n",
       "      <td>403</td>\n",
       "      <td>348</td>\n",
       "      <td>271</td>\n",
       "      <td>562</td>\n",
       "      <td>...</td>\n",
       "      <td>1052</td>\n",
       "      <td>832</td>\n",
       "      <td>808</td>\n",
       "      <td>636</td>\n",
       "      <td>1031</td>\n",
       "      <td>1193</td>\n",
       "      <td>1096</td>\n",
       "      <td>1663</td>\n",
       "      <td>866</td>\n",
       "      <td>1540</td>\n",
       "    </tr>\n",
       "    <tr>\n",
       "      <th>Bentley</th>\n",
       "      <td>0</td>\n",
       "      <td>0</td>\n",
       "      <td>0</td>\n",
       "      <td>0</td>\n",
       "      <td>0</td>\n",
       "      <td>1</td>\n",
       "      <td>0</td>\n",
       "      <td>0</td>\n",
       "      <td>0</td>\n",
       "      <td>0</td>\n",
       "      <td>...</td>\n",
       "      <td>0</td>\n",
       "      <td>0</td>\n",
       "      <td>1</td>\n",
       "      <td>1</td>\n",
       "      <td>1</td>\n",
       "      <td>0</td>\n",
       "      <td>0</td>\n",
       "      <td>0</td>\n",
       "      <td>0</td>\n",
       "      <td>0</td>\n",
       "    </tr>\n",
       "    <tr>\n",
       "      <th>...</th>\n",
       "      <td>...</td>\n",
       "      <td>...</td>\n",
       "      <td>...</td>\n",
       "      <td>...</td>\n",
       "      <td>...</td>\n",
       "      <td>...</td>\n",
       "      <td>...</td>\n",
       "      <td>...</td>\n",
       "      <td>...</td>\n",
       "      <td>...</td>\n",
       "      <td>...</td>\n",
       "      <td>...</td>\n",
       "      <td>...</td>\n",
       "      <td>...</td>\n",
       "      <td>...</td>\n",
       "      <td>...</td>\n",
       "      <td>...</td>\n",
       "      <td>...</td>\n",
       "      <td>...</td>\n",
       "      <td>...</td>\n",
       "      <td>...</td>\n",
       "    </tr>\n",
       "    <tr>\n",
       "      <th>Think</th>\n",
       "      <td>2</td>\n",
       "      <td>0</td>\n",
       "      <td>0</td>\n",
       "      <td>1</td>\n",
       "      <td>0</td>\n",
       "      <td>0</td>\n",
       "      <td>0</td>\n",
       "      <td>1</td>\n",
       "      <td>0</td>\n",
       "      <td>0</td>\n",
       "      <td>...</td>\n",
       "      <td>0</td>\n",
       "      <td>0</td>\n",
       "      <td>0</td>\n",
       "      <td>0</td>\n",
       "      <td>0</td>\n",
       "      <td>0</td>\n",
       "      <td>0</td>\n",
       "      <td>0</td>\n",
       "      <td>0</td>\n",
       "      <td>0</td>\n",
       "    </tr>\n",
       "    <tr>\n",
       "      <th>Toyota</th>\n",
       "      <td>2884</td>\n",
       "      <td>1885</td>\n",
       "      <td>1833</td>\n",
       "      <td>1300</td>\n",
       "      <td>1866</td>\n",
       "      <td>1620</td>\n",
       "      <td>1901</td>\n",
       "      <td>1783</td>\n",
       "      <td>1303</td>\n",
       "      <td>1648</td>\n",
       "      <td>...</td>\n",
       "      <td>1432</td>\n",
       "      <td>1687</td>\n",
       "      <td>1603</td>\n",
       "      <td>1127</td>\n",
       "      <td>1824</td>\n",
       "      <td>1823</td>\n",
       "      <td>1327</td>\n",
       "      <td>1375</td>\n",
       "      <td>1238</td>\n",
       "      <td>1526</td>\n",
       "    </tr>\n",
       "    <tr>\n",
       "      <th>Volkswagen</th>\n",
       "      <td>2521</td>\n",
       "      <td>1517</td>\n",
       "      <td>1428</td>\n",
       "      <td>1257</td>\n",
       "      <td>1934</td>\n",
       "      <td>1531</td>\n",
       "      <td>1777</td>\n",
       "      <td>1665</td>\n",
       "      <td>1373</td>\n",
       "      <td>1941</td>\n",
       "      <td>...</td>\n",
       "      <td>3017</td>\n",
       "      <td>2222</td>\n",
       "      <td>2287</td>\n",
       "      <td>2076</td>\n",
       "      <td>2359</td>\n",
       "      <td>2084</td>\n",
       "      <td>2161</td>\n",
       "      <td>2106</td>\n",
       "      <td>2239</td>\n",
       "      <td>1688</td>\n",
       "    </tr>\n",
       "    <tr>\n",
       "      <th>Volvo</th>\n",
       "      <td>693</td>\n",
       "      <td>570</td>\n",
       "      <td>656</td>\n",
       "      <td>587</td>\n",
       "      <td>805</td>\n",
       "      <td>662</td>\n",
       "      <td>1064</td>\n",
       "      <td>498</td>\n",
       "      <td>662</td>\n",
       "      <td>1014</td>\n",
       "      <td>...</td>\n",
       "      <td>748</td>\n",
       "      <td>619</td>\n",
       "      <td>766</td>\n",
       "      <td>635</td>\n",
       "      <td>463</td>\n",
       "      <td>763</td>\n",
       "      <td>732</td>\n",
       "      <td>754</td>\n",
       "      <td>1235</td>\n",
       "      <td>1158</td>\n",
       "    </tr>\n",
       "    <tr>\n",
       "      <th>Westfield</th>\n",
       "      <td>0</td>\n",
       "      <td>0</td>\n",
       "      <td>0</td>\n",
       "      <td>0</td>\n",
       "      <td>0</td>\n",
       "      <td>0</td>\n",
       "      <td>0</td>\n",
       "      <td>0</td>\n",
       "      <td>0</td>\n",
       "      <td>0</td>\n",
       "      <td>...</td>\n",
       "      <td>0</td>\n",
       "      <td>0</td>\n",
       "      <td>0</td>\n",
       "      <td>0</td>\n",
       "      <td>0</td>\n",
       "      <td>0</td>\n",
       "      <td>0</td>\n",
       "      <td>0</td>\n",
       "      <td>0</td>\n",
       "      <td>0</td>\n",
       "    </tr>\n",
       "  </tbody>\n",
       "</table>\n",
       "<p>65 rows × 121 columns</p>\n",
       "</div>"
      ],
      "text/plain": [
       "Period        2007-01  2007-02  2007-03  2007-04  2007-05  2007-06  2007-07  \\\n",
       "Make                                                                          \n",
       "Alfa Romeo         16        9       21       20       17       21       14   \n",
       "Aston Martin        0        0        1        0        4        3        3   \n",
       "Audi              599      498      682      556      630      498      562   \n",
       "BMW               352      335      365      360      431      477      403   \n",
       "Bentley             0        0        0        0        0        1        0   \n",
       "...               ...      ...      ...      ...      ...      ...      ...   \n",
       "Think               2        0        0        1        0        0        0   \n",
       "Toyota           2884     1885     1833     1300     1866     1620     1901   \n",
       "Volkswagen       2521     1517     1428     1257     1934     1531     1777   \n",
       "Volvo             693      570      656      587      805      662     1064   \n",
       "Westfield           0        0        0        0        0        0        0   \n",
       "\n",
       "Period        2007-08  2007-09  2007-10  ...  2016-04  2016-05  2016-06  \\\n",
       "Make                                     ...                              \n",
       "Alfa Romeo         12       15       10  ...        3        1        2   \n",
       "Aston Martin        0        0        0  ...        0        0        1   \n",
       "Audi              590      393      554  ...      685      540      551   \n",
       "BMW               348      271      562  ...     1052      832      808   \n",
       "Bentley             0        0        0  ...        0        0        1   \n",
       "...               ...      ...      ...  ...      ...      ...      ...   \n",
       "Think               1        0        0  ...        0        0        0   \n",
       "Toyota           1783     1303     1648  ...     1432     1687     1603   \n",
       "Volkswagen       1665     1373     1941  ...     3017     2222     2287   \n",
       "Volvo             498      662     1014  ...      748      619      766   \n",
       "Westfield           0        0        0  ...        0        0        0   \n",
       "\n",
       "Period        2016-07  2016-08  2016-09  2016-10  2016-11  2016-12  2017-01  \n",
       "Make                                                                         \n",
       "Alfa Romeo          1        6       15        3        4        3        6  \n",
       "Aston Martin        0        0        0        0        0        0        0  \n",
       "Audi              687      794      688      603      645      827      565  \n",
       "BMW               636     1031     1193     1096     1663      866     1540  \n",
       "Bentley             1        1        0        0        0        0        0  \n",
       "...               ...      ...      ...      ...      ...      ...      ...  \n",
       "Think               0        0        0        0        0        0        0  \n",
       "Toyota           1127     1824     1823     1327     1375     1238     1526  \n",
       "Volkswagen       2076     2359     2084     2161     2106     2239     1688  \n",
       "Volvo             635      463      763      732      754     1235     1158  \n",
       "Westfield           0        0        0        0        0        0        0  \n",
       "\n",
       "[65 rows x 121 columns]"
      ]
     },
     "execution_count": 60,
     "metadata": {},
     "output_type": "execute_result"
    }
   ],
   "source": [
    "df"
   ]
  },
  {
   "cell_type": "code",
   "execution_count": 58,
   "metadata": {},
   "outputs": [],
   "source": [
    "n_months = [6,12,24]\n",
    "results = []\n",
    "for x_len in n_months: \n",
    " X_train, Y_train, X_holdout, Y_holdout, X_test, Y_test = datasets_holdout(df, x_len=x_len, holdout_loops=12)\n",
    " for name, model in models:\n",
    "    model.fit(X_train,Y_train)\n",
    "    mae_train = model_mae(model, X_train, Y_train)\n",
    "    mae_holdout = model_mae(model, X_holdout, Y_holdout)\n",
    "    mae_test = model_mae(model, X_test, Y_test)\n",
    "    results.append([name+' Train',mae_train,x_len])\n",
    "    results.append([name+' Test',mae_test,x_len])\n",
    "    results.append([name+' Holdout',mae_holdout,x_len])"
   ]
  },
  {
   "cell_type": "code",
   "execution_count": 59,
   "metadata": {},
   "outputs": [
    {
     "name": "stdout",
     "output_type": "stream",
     "text": [
      "Model\n",
      "ETR Holdout       24\n",
      "ETR Test          12\n",
      "ETR Train         24\n",
      "Forest Holdout    24\n",
      "Forest Test       12\n",
      "Forest Train      24\n",
      "dtype: int64\n"
     ]
    },
    {
     "data": {
      "image/png": "[encoded data removed]",
      "text/plain": [
       "<Figure size 640x480 with 1 Axes>"
      ]
     },
     "metadata": {},
     "output_type": "display_data"
    }
   ],
   "source": [
    "data = pd.DataFrame(results,columns=['Model','MAE%','Number of Months'])\n",
    "data = data.set_index(['Number of Months','Model']).stack().unstack('Model')\n",
    "data.index = data.index.droplevel(level=1)\n",
    "data.index.name = 'Number of months'\n",
    "data.plot(color=['orange']*3+['black']*3,style=['-','--',':']*3)\n",
    "print(data.idxmin())"
   ]
  }
 ],
 "metadata": {
  "kernelspec": {
   "display_name": "base",
   "language": "python",
   "name": "python3"
  },
  "language_info": {
   "codemirror_mode": {
    "name": "ipython",
    "version": 3
   },
   "file_extension": ".py",
   "mimetype": "text/x-python",
   "name": "python",
   "nbconvert_exporter": "python",
   "pygments_lexer": "ipython3",
   "version": "3.11.5"
  }
 },
 "nbformat": 4,
 "nbformat_minor": 2
}
