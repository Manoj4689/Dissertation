{
 "cells": [
  {
   "cell_type": "code",
   "execution_count": 2,
   "metadata": {},
   "outputs": [],
   "source": [
    "import numpy as np \n",
    "import pandas as pd\n",
    "import math\n",
    "import scipy.stats as stats\n",
    "from scipy.stats import norm\n",
    "import matplotlib.pyplot as plt\n",
    "import seaborn as sns\n",
    "from sklearn.linear_model import LinearRegression\n",
    "from sklearn.model_selection import train_test_split\n",
    "from sklearn.metrics import mean_squared_error"
   ]
  },
  {
   "cell_type": "code",
   "execution_count": 3,
   "metadata": {},
   "outputs": [],
   "source": [
    "def import_data():\n",
    " data = pd.read_csv('norway_new_car_sales_by_make.csv')\n",
    " \n",
    " data['Period'] = data['Year'].astype(str) + '-' + data['Month'].astype(str).str.zfill(2)\n",
    " \n",
    " df = pd.pivot_table(data=data,values='Quantity',index='Make',columns='Period',aggfunc='sum',fill_value=0)\n",
    " return df"
   ]
  },
  {
   "cell_type": "code",
   "execution_count": 4,
   "metadata": {},
   "outputs": [],
   "source": [
    "def datasets(df, x_len=12, y_len=1, test_loops=12):\n",
    " D = df.values\n",
    " rows, periods = D.shape\n",
    " # Training set creation\n",
    " loops = periods + 1- x_len- y_len\n",
    " train = []\n",
    " for col in range(loops):\n",
    "    train.append(D[:,col:col+x_len+y_len])\n",
    " \n",
    " train = np.vstack(train)\n",
    " print(train.shape)\n",
    " X_train, Y_train = np.split(train,[-y_len],axis=1)\n",
    " # Test set creation\n",
    " if test_loops > 0:\n",
    "    X_train, X_test = np.split(X_train,[-rows*test_loops],axis=0)\n",
    "\n",
    "    Y_train, Y_test = np.split(Y_train,[-rows*test_loops],axis=0)\n",
    " else: # No test set: X_test is used to generate the future forecast\n",
    "    X_test = D[:,-x_len:]\n",
    "    Y_test = np.full((X_test.shape[0],y_len),np.nan) #Dummy value\n",
    " # Formatting required for scikit-learn\n",
    " if y_len == 1:\n",
    "    Y_train = Y_train.ravel()\n",
    "    Y_test = Y_test.ravel()\n",
    " return X_train, Y_train, X_test, Y_test"
   ]
  },
  {
   "cell_type": "code",
   "execution_count": 5,
   "metadata": {},
   "outputs": [],
   "source": [
    "def kpi_ML(Y_train, Y_train_pred, Y_test, Y_test_pred, name=''):\n",
    " df = pd.DataFrame(columns = ['MAE','RMSE','Bias'],index=['Train','Test'])\n",
    " df.index.name = name\n",
    " \n",
    " df.loc['Train','MAE'] = 100*np.mean(abs(Y_train-Y_train_pred))/np.mean(Y_train)\n",
    "\n",
    " df.loc['Train','RMSE'] = 100*np.sqrt(np.mean((Y_train-Y_train_pred)**2))/np.mean(Y_train)\n",
    " \n",
    " df.loc['Train','Bias'] = 100*np.mean((Y_train- Y_train_pred))/np.mean(Y_train)\n",
    "\n",
    " df.loc['Test','MAE'] = 100*np.mean(abs(Y_test- Y_test_pred))/np.mean(Y_test)\n",
    " \n",
    " df.loc['Test','RMSE'] = 100*np.sqrt(np.mean((Y_test-Y_test_pred)**2))/np.mean(Y_test)\n",
    " \n",
    " df.loc['Test','Bias'] = 100*np.mean((Y_test- Y_test_pred))/np.mean(Y_test)\n",
    " df = df.astype(float).round(1) #Round number for display\n",
    " print(df)"
   ]
  },
  {
   "cell_type": "code",
   "execution_count": 6,
   "metadata": {},
   "outputs": [
    {
     "name": "stdout",
     "output_type": "stream",
     "text": [
      "(7085, 13)\n"
     ]
    }
   ],
   "source": [
    "df = import_data()\n",
    "X_train, Y_train, X_test, Y_test = datasets(df, x_len=12, y_len=1,test_loops=12)"
   ]
  },
  {
   "cell_type": "code",
   "execution_count": 7,
   "metadata": {},
   "outputs": [],
   "source": [
    "#parameters\n",
    "hidden_layer_sizes = [[neuron]*hidden_layer for neuron in range(10,60,10) for hidden_layer in range(2,7)]\n",
    "alpha = [5,1,0.5,0.1,0.05,0.01,0.001]\n",
    "learning_rate_init = [0.05,0.01,0.005,0.001,0.0005]\n",
    "beta_1 = [0.85,0.875,0.9,0.95,0.975,0.99,0.995]\n",
    "\n",
    "beta_2 = [0.99,0.995,0.999,0.9995,0.9999]\n",
    "param_dist = {'hidden_layer_sizes':hidden_layer_sizes, 'alpha':alpha, 'learning_rate_init':learning_rate_init, 'beta_1':beta_1, 'beta_2':beta_2}"
   ]
  },
  {
   "cell_type": "code",
   "execution_count": 8,
   "metadata": {},
   "outputs": [],
   "source": [
    "activation = 'relu'\n",
    "solver = 'adam'\n",
    "early_stopping = True\n",
    "n_iter_no_change = 50\n",
    "validation_fraction = 0.1\n",
    "tol = 0.0001\n",
    "param_fixed = {'activation':activation, 'solver':solver,\n",
    "'early_stopping':early_stopping, 'n_iter_no_change':n_iter_no_change, 'validation_fraction':validation_fraction, 'tol':tol}"
   ]
  },
  {
   "cell_type": "code",
   "execution_count": 9,
   "metadata": {},
   "outputs": [
    {
     "name": "stdout",
     "output_type": "stream",
     "text": [
      "Iteration 1, loss = 3110.48324714\n",
      "Validation score: 0.954314\n",
      "Iteration 2, loss = 2917.97997112\n",
      "Validation score: 0.956153\n",
      "Iteration 3, loss = 2855.88884998\n",
      "Validation score: 0.955238\n",
      "Iteration 4, loss = 2840.48120712\n",
      "Validation score: 0.954918\n",
      "Iteration 5, loss = 2851.90352731\n",
      "Validation score: 0.956658\n",
      "Iteration 6, loss = 2801.73468298\n",
      "Validation score: 0.955498\n",
      "Iteration 7, loss = 2759.30477070\n",
      "Validation score: 0.956967\n",
      "Iteration 8, loss = 2713.25489424\n",
      "Validation score: 0.956529\n",
      "Iteration 9, loss = 2744.59670775\n",
      "Validation score: 0.956364\n",
      "Iteration 10, loss = 2712.76865519\n",
      "Validation score: 0.956930\n",
      "Iteration 11, loss = 2689.43275566\n",
      "Validation score: 0.956365\n",
      "Iteration 12, loss = 2756.18710959\n",
      "Validation score: 0.951694\n",
      "Iteration 13, loss = 2725.62287782\n",
      "Validation score: 0.953764\n",
      "Iteration 14, loss = 2699.56480187\n",
      "Validation score: 0.954551\n",
      "Iteration 15, loss = 2744.58597529\n",
      "Validation score: 0.956111\n",
      "Iteration 16, loss = 2700.99359374\n",
      "Validation score: 0.956148\n",
      "Iteration 17, loss = 2699.22139679\n",
      "Validation score: 0.954462\n",
      "Iteration 18, loss = 2645.57759232\n",
      "Validation score: 0.955721\n",
      "Iteration 19, loss = 2656.22373650\n",
      "Validation score: 0.955403\n",
      "Iteration 20, loss = 2589.63334105\n",
      "Validation score: 0.955289\n",
      "Iteration 21, loss = 2621.57426663\n",
      "Validation score: 0.954952\n",
      "Iteration 22, loss = 2591.06679198\n",
      "Validation score: 0.954564\n",
      "Iteration 23, loss = 2566.06576480\n",
      "Validation score: 0.950049\n",
      "Iteration 24, loss = 2617.41361274\n",
      "Validation score: 0.950695\n",
      "Iteration 25, loss = 2650.80199850\n",
      "Validation score: 0.955432\n",
      "Iteration 26, loss = 2585.67637949\n",
      "Validation score: 0.956340\n",
      "Iteration 27, loss = 2602.81146214\n",
      "Validation score: 0.954942\n",
      "Iteration 28, loss = 2543.28773656\n",
      "Validation score: 0.954458\n",
      "Iteration 29, loss = 2551.13844333\n",
      "Validation score: 0.954227\n",
      "Iteration 30, loss = 2571.47674348\n",
      "Validation score: 0.955382\n",
      "Iteration 31, loss = 2558.38109555\n",
      "Validation score: 0.955483\n",
      "Iteration 32, loss = 2618.87505209\n",
      "Validation score: 0.955234\n",
      "Iteration 33, loss = 2662.08074667\n",
      "Validation score: 0.953482\n",
      "Iteration 34, loss = 2520.09315756\n",
      "Validation score: 0.953098\n",
      "Iteration 35, loss = 2535.08520537\n",
      "Validation score: 0.955179\n",
      "Iteration 36, loss = 2524.51419729\n",
      "Validation score: 0.952846\n",
      "Iteration 37, loss = 2572.68858306\n",
      "Validation score: 0.954824\n",
      "Iteration 38, loss = 2592.54109997\n",
      "Validation score: 0.952499\n",
      "Iteration 39, loss = 2535.18728433\n",
      "Validation score: 0.955115\n",
      "Iteration 40, loss = 2497.32795844\n",
      "Validation score: 0.952845\n",
      "Iteration 41, loss = 2526.67034031\n",
      "Validation score: 0.954398\n",
      "Iteration 42, loss = 2506.75391582\n",
      "Validation score: 0.954076\n",
      "Iteration 43, loss = 2486.30117370\n",
      "Validation score: 0.953711\n",
      "Iteration 44, loss = 2503.10732256\n",
      "Validation score: 0.950999\n",
      "Iteration 45, loss = 2525.83348941\n",
      "Validation score: 0.952379\n",
      "Iteration 46, loss = 2472.04635557\n",
      "Validation score: 0.953482\n",
      "Iteration 47, loss = 2479.62567252\n",
      "Validation score: 0.952856\n",
      "Iteration 48, loss = 2513.18150504\n",
      "Validation score: 0.953942\n",
      "Iteration 49, loss = 2498.98239069\n",
      "Validation score: 0.952074\n",
      "Iteration 50, loss = 2533.07145051\n",
      "Validation score: 0.952121\n",
      "Iteration 51, loss = 2518.24274317\n",
      "Validation score: 0.952522\n",
      "Iteration 52, loss = 2513.04479433\n",
      "Validation score: 0.949670\n",
      "Iteration 53, loss = 2456.94704021\n",
      "Validation score: 0.952469\n",
      "Iteration 54, loss = 2472.31022492\n",
      "Validation score: 0.953316\n",
      "Iteration 55, loss = 2477.12342843\n",
      "Validation score: 0.952145\n",
      "Iteration 56, loss = 2462.09230255\n",
      "Validation score: 0.946754\n",
      "Iteration 57, loss = 2537.36338757\n",
      "Validation score: 0.952781\n",
      "Iteration 58, loss = 2492.98427538\n",
      "Validation score: 0.951122\n",
      "Validation score did not improve more than tol=0.000100 for 50 consecutive epochs. Stopping.\n"
     ]
    }
   ],
   "source": [
    "from sklearn.neural_network import MLPRegressor\n",
    "NN = MLPRegressor(hidden_layer_sizes=(20,20), **param_fixed, verbose=True).fit(X_train, Y_train)"
   ]
  },
  {
   "cell_type": "code",
   "execution_count": 10,
   "metadata": {},
   "outputs": [
    {
     "name": "stdout",
     "output_type": "stream",
     "text": [
      "Fitting 10 folds for each of 200 candidates, totalling 2000 fits\n",
      "Tuned NN Parameters: {'learning_rate_init': 0.01, 'hidden_layer_sizes': [30, 30, 30, 30, 30], 'beta_2': 0.99, 'beta_1': 0.99, 'alpha': 0.05}\n",
      "\n",
      "               MAE  RMSE  Bias\n",
      "NN optimized                  \n",
      "Train         17.1  41.8   0.9\n",
      "Test          17.4  44.0   2.2\n"
     ]
    }
   ],
   "source": [
    "from sklearn.model_selection import RandomizedSearchCV\n",
    "NN = MLPRegressor(**param_fixed)\n",
    "NN_cv = RandomizedSearchCV(NN, param_dist, cv=10, verbose=2, n_jobs=-1, n_iter=200, scoring='neg_mean_absolute_error')\n",
    "NN_cv.fit(X_train,Y_train)\n",
    "print('Tuned NN Parameters:', NN_cv.best_params_)\n",
    "print()\n",
    "Y_train_pred = NN_cv.predict(X_train)\n",
    "Y_test_pred = NN_cv.predict(X_test)\n",
    "kpi_ML(Y_train, Y_train_pred, Y_test, Y_test_pred, name='NN optimized')"
   ]
  },
  {
   "cell_type": "code",
   "execution_count": 11,
   "metadata": {},
   "outputs": [
    {
     "data": {
      "text/plain": [
       "<function matplotlib.pyplot.show(close=None, block=None)>"
      ]
     },
     "execution_count": 11,
     "metadata": {},
     "output_type": "execute_result"
    },
    {
     "data": {
      "image/png": "[encoded data removed]",
      "text/plain": [
       "<Figure size 640x480 with 1 Axes>"
      ]
     },
     "metadata": {},
     "output_type": "display_data"
    }
   ],
   "source": [
    "plt.plot(Y_train[:100])\n",
    "plt.plot(Y_train_pred[:100])\n",
    "plt.show"
   ]
  },
  {
   "cell_type": "code",
   "execution_count": null,
   "metadata": {},
   "outputs": [],
   "source": []
  }
 ],
 "metadata": {
  "kernelspec": {
   "display_name": "base",
   "language": "python",
   "name": "python3"
  },
  "language_info": {
   "codemirror_mode": {
    "name": "ipython",
    "version": 3
   },
   "file_extension": ".py",
   "mimetype": "text/x-python",
   "name": "python",
   "nbconvert_exporter": "python",
   "pygments_lexer": "ipython3",
   "version": "3.11.5"
  }
 },
 "nbformat": 4,
 "nbformat_minor": 2
}
